{
 "cells": [
  {
   "cell_type": "markdown",
   "id": "9e950f97",
   "metadata": {},
   "source": [
    "# 2020/2021 External UT Transfer Data (Fall Semester)"
   ]
  },
  {
   "cell_type": "code",
   "execution_count": 325,
   "id": "3b67dab5",
   "metadata": {},
   "outputs": [],
   "source": [
    "from matplotlib import pyplot as plt\n",
    "import numpy as np\n",
    "import pandas as pd\n",
    "import re"
   ]
  },
  {
   "cell_type": "markdown",
   "id": "c3e72e3f",
   "metadata": {},
   "source": [
    "This notebook consists of the following:\n",
    "\n",
    "\n",
    "### Descriptive Statistics: \n",
    "\n",
    "- Average GPA by College\n",
    "- Acceptance Rate by College\n",
    "- Number of Applcations by College\n",
    "- Entry Submission Dates\n",
    "- Most Common Majors\n",
    "- Least Common Majors\n",
    "\n",
    "### Naive Bayes Classifier \n",
    "- Predicts a students chance of acceptance \n",
    "- 75% Accurate\n"
   ]
  },
  {
   "cell_type": "markdown",
   "id": "928aaf17",
   "metadata": {},
   "source": [
    "# Part I: Clean Data"
   ]
  },
  {
   "cell_type": "code",
   "execution_count": 585,
   "id": "174a05ae",
   "metadata": {},
   "outputs": [
    {
     "data": {
      "text/html": [
       "<div>\n",
       "<style scoped>\n",
       "    .dataframe tbody tr th:only-of-type {\n",
       "        vertical-align: middle;\n",
       "    }\n",
       "\n",
       "    .dataframe tbody tr th {\n",
       "        vertical-align: top;\n",
       "    }\n",
       "\n",
       "    .dataframe thead th {\n",
       "        text-align: right;\n",
       "    }\n",
       "</style>\n",
       "<table border=\"1\" class=\"dataframe\">\n",
       "  <thead>\n",
       "    <tr style=\"text-align: right;\">\n",
       "      <th></th>\n",
       "      <th>Timestamp</th>\n",
       "      <th>Decision</th>\n",
       "      <th>College</th>\n",
       "      <th>Major</th>\n",
       "      <th>GPA</th>\n",
       "      <th>Hours</th>\n",
       "      <th>Residency</th>\n",
       "      <th>CAP</th>\n",
       "    </tr>\n",
       "  </thead>\n",
       "  <tbody>\n",
       "    <tr>\n",
       "      <th>0</th>\n",
       "      <td>2020-05-28</td>\n",
       "      <td>Admitted</td>\n",
       "      <td>COLA</td>\n",
       "      <td>Psychology</td>\n",
       "      <td>3.43</td>\n",
       "      <td>40</td>\n",
       "      <td>In state</td>\n",
       "      <td>Yes</td>\n",
       "    </tr>\n",
       "    <tr>\n",
       "      <th>1</th>\n",
       "      <td>2020-05-28</td>\n",
       "      <td>Admitted</td>\n",
       "      <td>COLA</td>\n",
       "      <td>History</td>\n",
       "      <td>3.90</td>\n",
       "      <td>31</td>\n",
       "      <td>In state</td>\n",
       "      <td>Yes</td>\n",
       "    </tr>\n",
       "    <tr>\n",
       "      <th>2</th>\n",
       "      <td>2020-05-28</td>\n",
       "      <td>Admitted</td>\n",
       "      <td>COLA</td>\n",
       "      <td>Human Dimensions Of Organizations</td>\n",
       "      <td>4.00</td>\n",
       "      <td>30</td>\n",
       "      <td>In state</td>\n",
       "      <td>Yes</td>\n",
       "    </tr>\n",
       "    <tr>\n",
       "      <th>3</th>\n",
       "      <td>2020-05-28</td>\n",
       "      <td>Admitted</td>\n",
       "      <td>COLA</td>\n",
       "      <td>Psychology</td>\n",
       "      <td>3.50</td>\n",
       "      <td>50</td>\n",
       "      <td>In state</td>\n",
       "      <td>Yes</td>\n",
       "    </tr>\n",
       "    <tr>\n",
       "      <th>4</th>\n",
       "      <td>2020-05-28</td>\n",
       "      <td>Admitted</td>\n",
       "      <td>COLA</td>\n",
       "      <td>Psychology</td>\n",
       "      <td>3.70</td>\n",
       "      <td>60</td>\n",
       "      <td>In state</td>\n",
       "      <td>Yes</td>\n",
       "    </tr>\n",
       "    <tr>\n",
       "      <th>...</th>\n",
       "      <td>...</td>\n",
       "      <td>...</td>\n",
       "      <td>...</td>\n",
       "      <td>...</td>\n",
       "      <td>...</td>\n",
       "      <td>...</td>\n",
       "      <td>...</td>\n",
       "      <td>...</td>\n",
       "    </tr>\n",
       "    <tr>\n",
       "      <th>827</th>\n",
       "      <td>2021-07-22</td>\n",
       "      <td>Admitted</td>\n",
       "      <td>Nursing</td>\n",
       "      <td>Nursing</td>\n",
       "      <td>3.86</td>\n",
       "      <td>86</td>\n",
       "      <td>In State</td>\n",
       "      <td>No</td>\n",
       "    </tr>\n",
       "    <tr>\n",
       "      <th>828</th>\n",
       "      <td>2021-08-04</td>\n",
       "      <td>Admitted</td>\n",
       "      <td>McCombs</td>\n",
       "      <td>Unspecified Business</td>\n",
       "      <td>3.89</td>\n",
       "      <td>61</td>\n",
       "      <td>In State</td>\n",
       "      <td>No</td>\n",
       "    </tr>\n",
       "    <tr>\n",
       "      <th>829</th>\n",
       "      <td>2021-08-06</td>\n",
       "      <td>Admitted</td>\n",
       "      <td>Moody</td>\n",
       "      <td>Corporate Communications</td>\n",
       "      <td>4.00</td>\n",
       "      <td>32</td>\n",
       "      <td>In State</td>\n",
       "      <td>Yes</td>\n",
       "    </tr>\n",
       "    <tr>\n",
       "      <th>830</th>\n",
       "      <td>2021-08-18</td>\n",
       "      <td>Admitted</td>\n",
       "      <td>Moody</td>\n",
       "      <td>Advertising</td>\n",
       "      <td>4.00</td>\n",
       "      <td>33</td>\n",
       "      <td>In State</td>\n",
       "      <td>Yes</td>\n",
       "    </tr>\n",
       "    <tr>\n",
       "      <th>831</th>\n",
       "      <td>2021-08-20</td>\n",
       "      <td>Admitted</td>\n",
       "      <td>Information</td>\n",
       "      <td>Informatics</td>\n",
       "      <td>3.70</td>\n",
       "      <td>69</td>\n",
       "      <td>In State</td>\n",
       "      <td>No</td>\n",
       "    </tr>\n",
       "  </tbody>\n",
       "</table>\n",
       "<p>832 rows × 8 columns</p>\n",
       "</div>"
      ],
      "text/plain": [
       "      Timestamp  Decision      College                              Major  \\\n",
       "0    2020-05-28  Admitted         COLA                         Psychology   \n",
       "1    2020-05-28  Admitted         COLA                            History   \n",
       "2    2020-05-28  Admitted         COLA  Human Dimensions Of Organizations   \n",
       "3    2020-05-28  Admitted         COLA                         Psychology   \n",
       "4    2020-05-28  Admitted         COLA                         Psychology   \n",
       "..          ...       ...          ...                                ...   \n",
       "827  2021-07-22  Admitted      Nursing                            Nursing   \n",
       "828  2021-08-04  Admitted      McCombs               Unspecified Business   \n",
       "829  2021-08-06  Admitted        Moody           Corporate Communications   \n",
       "830  2021-08-18  Admitted        Moody                        Advertising   \n",
       "831  2021-08-20  Admitted  Information                        Informatics   \n",
       "\n",
       "      GPA  Hours Residency  CAP  \n",
       "0    3.43     40  In state  Yes  \n",
       "1    3.90     31  In state  Yes  \n",
       "2    4.00     30  In state  Yes  \n",
       "3    3.50     50  In state  Yes  \n",
       "4    3.70     60  In state  Yes  \n",
       "..    ...    ...       ...  ...  \n",
       "827  3.86     86  In State   No  \n",
       "828  3.89     61  In State   No  \n",
       "829  4.00     32  In State  Yes  \n",
       "830  4.00     33  In State  Yes  \n",
       "831  3.70     69  In State   No  \n",
       "\n",
       "[832 rows x 8 columns]"
      ]
     },
     "execution_count": 585,
     "metadata": {},
     "output_type": "execute_result"
    }
   ],
   "source": [
    "\n",
    "df20 = pd.read_csv('2020.csv', parse_dates=['Timestamp'])\n",
    "df21 = pd.read_csv('2021.csv', parse_dates=['Timestamp'])\n",
    "df21.rename(columns = {\"Credit Hours (Please include the exact number)\": \"Hours\"}, inplace=True) \n",
    "frames = [df20, df21]\n",
    "dfMerged = pd.concat(frames, ignore_index=True)\n",
    "dfMerged['GPA'] = dfMerged['GPA'].apply(lambda gpa: float(gpa))\n",
    "dfMerged['Timestamp'] = dfMerged['Timestamp'].apply(lambda date: date.date())\n",
    "dfMerged"
   ]
  },
  {
   "cell_type": "markdown",
   "id": "a1b91e4f",
   "metadata": {},
   "source": [
    "## Average GPA by College"
   ]
  },
  {
   "cell_type": "code",
   "execution_count": 621,
   "id": "212d3cad",
   "metadata": {},
   "outputs": [
    {
     "data": {
      "image/png": "[encoded data removed]",
      "text/plain": [
       "<Figure size 864x720 with 1 Axes>"
      ]
     },
     "metadata": {},
     "output_type": "display_data"
    },
    {
     "data": {
      "text/html": [
       "<div>\n",
       "<style scoped>\n",
       "    .dataframe tbody tr th:only-of-type {\n",
       "        vertical-align: middle;\n",
       "    }\n",
       "\n",
       "    .dataframe tbody tr th {\n",
       "        vertical-align: top;\n",
       "    }\n",
       "\n",
       "    .dataframe thead th {\n",
       "        text-align: right;\n",
       "    }\n",
       "</style>\n",
       "<table border=\"1\" class=\"dataframe\">\n",
       "  <thead>\n",
       "    <tr style=\"text-align: right;\">\n",
       "      <th></th>\n",
       "      <th>GPA</th>\n",
       "    </tr>\n",
       "    <tr>\n",
       "      <th>College</th>\n",
       "      <th></th>\n",
       "    </tr>\n",
       "  </thead>\n",
       "  <tbody>\n",
       "    <tr>\n",
       "      <th>Architecture</th>\n",
       "      <td>3.93</td>\n",
       "    </tr>\n",
       "    <tr>\n",
       "      <th>McCombs</th>\n",
       "      <td>3.91</td>\n",
       "    </tr>\n",
       "    <tr>\n",
       "      <th>Cockrell</th>\n",
       "      <td>3.89</td>\n",
       "    </tr>\n",
       "    <tr>\n",
       "      <th>Geosciences</th>\n",
       "      <td>3.89</td>\n",
       "    </tr>\n",
       "    <tr>\n",
       "      <th>Moody</th>\n",
       "      <td>3.85</td>\n",
       "    </tr>\n",
       "    <tr>\n",
       "      <th>Nursing</th>\n",
       "      <td>3.85</td>\n",
       "    </tr>\n",
       "    <tr>\n",
       "      <th>CNS</th>\n",
       "      <td>3.84</td>\n",
       "    </tr>\n",
       "    <tr>\n",
       "      <th>COLA</th>\n",
       "      <td>3.80</td>\n",
       "    </tr>\n",
       "    <tr>\n",
       "      <th>Education</th>\n",
       "      <td>3.78</td>\n",
       "    </tr>\n",
       "    <tr>\n",
       "      <th>Information</th>\n",
       "      <td>3.78</td>\n",
       "    </tr>\n",
       "    <tr>\n",
       "      <th>Social Work</th>\n",
       "      <td>3.77</td>\n",
       "    </tr>\n",
       "    <tr>\n",
       "      <th>COFA</th>\n",
       "      <td>3.72</td>\n",
       "    </tr>\n",
       "    <tr>\n",
       "      <th>Theatre and Dance</th>\n",
       "      <td>3.55</td>\n",
       "    </tr>\n",
       "  </tbody>\n",
       "</table>\n",
       "</div>"
      ],
      "text/plain": [
       "                    GPA\n",
       "College                \n",
       "Architecture       3.93\n",
       "McCombs            3.91\n",
       "Cockrell           3.89\n",
       "Geosciences        3.89\n",
       "Moody              3.85\n",
       "Nursing            3.85\n",
       "CNS                3.84\n",
       "COLA               3.80\n",
       "Education          3.78\n",
       "Information        3.78\n",
       "Social Work        3.77\n",
       "COFA               3.72\n",
       "Theatre and Dance  3.55"
      ]
     },
     "execution_count": 621,
     "metadata": {},
     "output_type": "execute_result"
    }
   ],
   "source": [
    "averageGPA = dfMerged[['College', 'GPA']].groupby(['College']).mean().round(2).sort_values('GPA', ascending=False)\n",
    "averageGPA.plot.barh(legend = False)\n",
    "plt.style.use('ggplot')\n",
    "plt.rcParams[\"figure.figsize\"] = (12,10) \n",
    "\n",
    "plt.title('Average GPA by College', size=17)\n",
    "plt.xlabel('Average GPA', size = 15)\n",
    "plt.ylabel('College', size = 15)\n",
    "plt.show()\n",
    "averageGPA"
   ]
  },
  {
   "cell_type": "markdown",
   "id": "bd227927",
   "metadata": {},
   "source": [
    "## Number of Applications by College"
   ]
  },
  {
   "cell_type": "code",
   "execution_count": 610,
   "id": "87ba8e42",
   "metadata": {},
   "outputs": [
    {
     "data": {
      "image/png": "[encoded data removed]",
      "text/plain": [
       "<Figure size 864x720 with 1 Axes>"
      ]
     },
     "metadata": {},
     "output_type": "display_data"
    },
    {
     "data": {
      "text/plain": [
       "COLA                 298\n",
       "CNS                  160\n",
       "Moody                123\n",
       "McCombs               79\n",
       "Cockrell              70\n",
       "Education             54\n",
       "COFA                  23\n",
       "Social Work            8\n",
       "Nursing                7\n",
       "Geosciences            6\n",
       "Information            2\n",
       "Architecture           1\n",
       "Theatre and Dance      1\n",
       "Name: College, dtype: int64"
      ]
     },
     "execution_count": 610,
     "metadata": {},
     "output_type": "execute_result"
    }
   ],
   "source": [
    "applications = dfMerged['College'].value_counts()\n",
    "applications.plot.barh(legend = False)\n",
    "plt.style.use('ggplot')\n",
    "plt.xlabel('# of Applications', size = 15)\n",
    "plt.ylabel('College', size = 15)\n",
    "plt.show()\n",
    "applications"
   ]
  },
  {
   "cell_type": "markdown",
   "id": "0a498fbc",
   "metadata": {},
   "source": [
    "## Acceptance Rate by College\n"
   ]
  },
  {
   "cell_type": "code",
   "execution_count": 609,
   "id": "0be04ab5",
   "metadata": {
    "scrolled": false
   },
   "outputs": [
    {
     "data": {
      "image/png": "[encoded data removed]",
      "text/plain": [
       "<Figure size 864x720 with 1 Axes>"
      ]
     },
     "metadata": {},
     "output_type": "display_data"
    },
    {
     "data": {
      "text/plain": [
       "College\n",
       "Architecture         100.000000\n",
       "CNS                   62.500000\n",
       "COFA                  82.608696\n",
       "COLA                  88.926174\n",
       "Cockrell              50.000000\n",
       "Education             98.148148\n",
       "Geosciences           83.333333\n",
       "Information            0.000000\n",
       "McCombs               67.088608\n",
       "Moody                 88.617886\n",
       "Nursing               85.714286\n",
       "Social Work            0.000000\n",
       "Theatre and Dance    100.000000\n",
       "Name: Decision, dtype: float64"
      ]
     },
     "execution_count": 609,
     "metadata": {},
     "output_type": "execute_result"
    }
   ],
   "source": [
    "def acceptanceRate(decision):\n",
    "    decisions = decision.value_counts()\n",
    "    if len(decisions) == 1:\n",
    "        if decisions['Admitted'] == 1:\n",
    "            return 100\n",
    "        else:\n",
    "            return 0\n",
    "        \n",
    "    admitted = decisions[0]\n",
    "    denied = decisions[1]\n",
    "    return 100 * float((admitted/(admitted+denied)))\n",
    "\n",
    "acceptanceRates = dfMerged.groupby(['College'])['Decision'].apply(acceptanceRate)\n",
    "acceptanceRates.plot.barh(legend = False)\n",
    "for i, v in enumerate(acceptanceRates):\n",
    "    v = round(v, 2)\n",
    "    plt.text(v + 5, i + .25, str(v)+ \"%\", color='black', fontweight='light')\n",
    "plt.style.use('ggplot')\n",
    "plt.xlabel('Acceptance Rate', size = 15)\n",
    "plt.ylabel('College', size = 15)\n",
    "plt.show()\n",
    "acceptanceRates"
   ]
  },
  {
   "cell_type": "code",
   "execution_count": 442,
   "id": "3c4c00db",
   "metadata": {
    "scrolled": true
   },
   "outputs": [
    {
     "data": {
      "text/plain": [
       "College            Decision\n",
       "Architecture       Admitted      1\n",
       "CNS                Admitted    100\n",
       "                   Denied       60\n",
       "COFA               Admitted     19\n",
       "                   Denied        4\n",
       "COLA               Admitted    265\n",
       "                   Denied       33\n",
       "Cockrell           Admitted     35\n",
       "                   Denied       35\n",
       "Education          Admitted     53\n",
       "                   Denied        1\n",
       "Geosciences        Admitted      5\n",
       "                   Denied        1\n",
       "Information        Admitted      2\n",
       "McCombs            Admitted     53\n",
       "                   Denied       26\n",
       "Moody              Admitted    109\n",
       "                   Denied       14\n",
       "Nursing            Denied        6\n",
       "                   Admitted      1\n",
       "Social Work        Admitted      8\n",
       "Theatre and Dance  Admitted      1\n",
       "Name: Decision, dtype: int64"
      ]
     },
     "execution_count": 442,
     "metadata": {},
     "output_type": "execute_result"
    }
   ],
   "source": [
    "acceptanceRates = dfMerged.groupby(['College'])['Decision'].value_counts()\n",
    "acceptanceRates"
   ]
  },
  {
   "cell_type": "markdown",
   "id": "4e868280",
   "metadata": {},
   "source": [
    "### Entry Submisions Dates"
   ]
  },
  {
   "cell_type": "code",
   "execution_count": 475,
   "id": "458645fc",
   "metadata": {
    "scrolled": false
   },
   "outputs": [
    {
     "data": {
      "image/png": "[encoded data removed]",
      "text/plain": [
       "<Figure size 1440x1440 with 1 Axes>"
      ]
     },
     "metadata": {},
     "output_type": "display_data"
    }
   ],
   "source": [
    "dates = dfMerged['Timestamp'].value_counts()\n",
    "dates.plot.barh(legend = False)\n",
    "plt.rcParams[\"figure.figsize\"] = (20,20) \n",
    "plt.style.use('ggplot')\n",
    "plt.xlabel('# of Submissions', size = 20)\n",
    "plt.ylabel('Dates', size = 20)\n",
    "plt.show()"
   ]
  },
  {
   "cell_type": "markdown",
   "id": "1aef9ac4",
   "metadata": {},
   "source": [
    "## Most and Least Common Majors"
   ]
  },
  {
   "cell_type": "code",
   "execution_count": 624,
   "id": "b2d181d7",
   "metadata": {
    "scrolled": true
   },
   "outputs": [],
   "source": [
    "\n",
    "def test(majors):\n",
    "    unique = {}\n",
    "    \n",
    "    for major in majors:\n",
    "        if major in unique:\n",
    "            unique[major] += 1\n",
    "        else: \n",
    "            unique[major] = 1\n",
    "    return unique\n",
    "\n",
    "unique20 = test(df20['Major'])\n",
    "unique21 = test(df21['Major'])"
   ]
  },
  {
   "cell_type": "code",
   "execution_count": 625,
   "id": "4f6b3724",
   "metadata": {
    "scrolled": false
   },
   "outputs": [],
   "source": [
    "def merge(dic1, dic2):\n",
    "    newDic = {}\n",
    "    for key in dic1:\n",
    "        if key in dic2:\n",
    "            newDic[key] = dic1[key] + dic2[key]\n",
    "        else:\n",
    "            newDic[key] = dic1[key]\n",
    "    \n",
    "    for key in dic2:\n",
    "        if key not in newDic:\n",
    "            newDic[key] = dic2[key]\n",
    "    return newDic\n",
    "\n",
    "\n",
    "combine = merge(unique20, unique21)"
   ]
  },
  {
   "cell_type": "code",
   "execution_count": 626,
   "id": "64643a48",
   "metadata": {
    "scrolled": true
   },
   "outputs": [
    {
     "name": "stdout",
     "output_type": "stream",
     "text": [
      "Psychology: 75\n",
      "Unspecified Business: 57\n",
      "Government: 49\n",
      "Computer Science: 47\n",
      "Advertising: 37\n",
      "Biology: 36\n",
      "International Relations And Global Studies: 34\n",
      "Economics: 32\n",
      "Radio-Television-Film: 28\n",
      "Public Relations: 19\n",
      "Sociology: 17\n",
      "Mechanical Engineering: 17\n",
      "Biochemistry: 15\n",
      "Public Health: 15\n",
      "History: 13\n",
      "Exercise Science: 13\n",
      "English: 13\n",
      "Applied Learning And Development: 12\n",
      "Mathematics: 12\n",
      "Health And Society: 10\n",
      "Electrical Engineering: 10\n",
      "Sustainability Studies: 10\n",
      "Neuroscience: 9\n",
      "Journalism: 9\n",
      "Philosophy: 9\n",
      "Physics: 9\n",
      "Corporate Communications: 8\n",
      "Civil Engineering: 8\n",
      "Finance: 8\n",
      "Biomedical Engineering: 7\n",
      "Social Work: 7\n",
      "Nutrition: 7\n",
      "Aerospace Engineering: 7\n",
      "Physical Culture And Sports: 7\n",
      "Nursing: 7\n",
      "Business: 7\n",
      "Chemical Engineering: 7\n",
      "Human Dimensions Of Organizations: 6\n",
      "Design: 6\n",
      "Communication Sciences And Disorders: 6\n",
      "Linguistics: 6\n",
      "Arts And Entertainment Technologies: 6\n",
      "Communication And Leadership: 5\n",
      "Environmental Science: 5\n",
      "Applied Movement Science: 4\n",
      "Asian Studies: 4\n",
      "Environmental Engineering: 4\n",
      "Education: 4\n",
      "Accounting: 4\n",
      "Kinesiology: 4\n",
      "Youth And Community Studies: 3\n",
      "Theatre Studies: 3\n",
      "Anthropology: 3\n",
      "Writing And Rhetoric: 3\n",
      "Special Education: 3\n",
      "Electrical And Computer Engineering: 3\n",
      "Speech Pathology: 3\n",
      "Pre-Public Relations: 3\n",
      "Studio Art: 2\n",
      "Art History: 2\n",
      "Physical Culture And Sport: 2\n",
      "Human Development And Family Sciences: 2\n",
      "Political Communication: 2\n",
      "Undeclared: 2\n",
      "Computational Engineering: 2\n",
      "Interpersonal Communications: 2\n",
      "Petroleum Engineering: 2\n",
      "Marine Sciences: 2\n",
      "Music Composition: 2\n",
      "Informatics: 2\n",
      "Computer Engineering: 2\n",
      "Management Information Systems: 2\n",
      "Medical Laboratory Science: 2\n",
      "Visual Arts Studies: 1\n",
      "Pre-Athletic Training: 1\n",
      "Speech Language/Pathology: 1\n",
      "Early Childhood Education: 1\n",
      "Chemistry: 1\n",
      "Religious Studies: 1\n",
      "General Geology: 1\n",
      "Mexican American Studies: 1\n",
      "Geography: 1\n",
      "Business Administration: 1\n",
      "Communication Studies: 1\n",
      "Interior Design: 1\n",
      "Astronomy: 1\n",
      "Visual Art Studies: 1\n",
      "Theatre Education: 1\n",
      "Geoscience: 1\n",
      "Scenic Design: 1\n",
      "Gender Studies: 1\n",
      "Behavioral Science And Health Promotion: 1\n",
      "Linguisitcs: 1\n",
      "European Studies: 1\n",
      "Health & Society: 1\n",
      "Political Science: 1\n",
      "Spanish: 1\n",
      "Textile And Apparel: 1\n",
      "Architectural Engineering: 1\n",
      "Urban Studies: 1\n"
     ]
    }
   ],
   "source": [
    "for key in sorted(combine.items(), key=lambda item: item[1], reverse=True):\n",
    "    print(key[0] + \": \" + str(key[1]))"
   ]
  },
  {
   "cell_type": "markdown",
   "id": "119738bb",
   "metadata": {},
   "source": [
    "## Top 20 Most Common Majors\n"
   ]
  },
  {
   "cell_type": "code",
   "execution_count": 627,
   "id": "bf97df9f",
   "metadata": {
    "scrolled": false
   },
   "outputs": [
    {
     "name": "stdout",
     "output_type": "stream",
     "text": [
      "Psychology: 75\n",
      "Unspecified Business: 57\n",
      "Government: 49\n",
      "Computer Science: 47\n",
      "Advertising: 37\n",
      "Biology: 36\n",
      "International Relations And Global Studies: 34\n",
      "Economics: 32\n",
      "Radio-Television-Film: 28\n",
      "Public Relations: 19\n",
      "Sociology: 17\n",
      "Mechanical Engineering: 17\n",
      "Biochemistry: 15\n",
      "Public Health: 15\n",
      "History: 13\n",
      "Exercise Science: 13\n",
      "English: 13\n",
      "Applied Learning And Development: 12\n",
      "Mathematics: 12\n",
      "Health And Society: 10\n"
     ]
    }
   ],
   "source": [
    "for key in sorted(combine.items(), key=lambda item: item[1], reverse=True)[:20]:\n",
    "    print(key[0] + \": \" + str(key[1]))"
   ]
  },
  {
   "cell_type": "markdown",
   "id": "c94aac1c",
   "metadata": {},
   "source": [
    "## Top 20 Least Common Majors"
   ]
  },
  {
   "cell_type": "code",
   "execution_count": 628,
   "id": "b1fca428",
   "metadata": {},
   "outputs": [
    {
     "name": "stdout",
     "output_type": "stream",
     "text": [
      "Visual Arts Studies: 1\n",
      "Pre-Athletic Training: 1\n",
      "Speech Language/Pathology: 1\n",
      "Early Childhood Education: 1\n",
      "Chemistry: 1\n",
      "Religious Studies: 1\n",
      "General Geology: 1\n",
      "Mexican American Studies: 1\n",
      "Geography: 1\n",
      "Business Administration: 1\n",
      "Communication Studies: 1\n",
      "Interior Design: 1\n",
      "Astronomy: 1\n",
      "Visual Art Studies: 1\n",
      "Theatre Education: 1\n",
      "Geoscience: 1\n",
      "Scenic Design: 1\n",
      "Gender Studies: 1\n",
      "Behavioral Science And Health Promotion: 1\n",
      "Linguisitcs: 1\n"
     ]
    }
   ],
   "source": [
    "for key in sorted(combine.items(), key=lambda item: item[1])[:20]:\n",
    "    print(key[0] + \": \" + str(key[1]))"
   ]
  },
  {
   "cell_type": "markdown",
   "id": "9f26ad7c",
   "metadata": {},
   "source": [
    "## Replace college string values with integers\n",
    "\n",
    "\n",
    "\n",
    "1. COLA\n",
    "2. CNS\n",
    "3. Moody\n",
    "4. McCombs\n",
    "5. Cockrell\n",
    "6. Education\n",
    "7. COFA\n",
    "8. Social Work\n",
    "9. Nursing\n",
    "10. Geosciences\n",
    "11. Information\n",
    "12. Architecture\n",
    "13. Theatre and Dance\n",
    " "
   ]
  },
  {
   "cell_type": "code",
   "execution_count": 570,
   "id": "85bf4f3f",
   "metadata": {
    "scrolled": true
   },
   "outputs": [],
   "source": [
    "newdf20 = df20[['Decision', 'College', 'GPA', 'Hours', 'Residency', 'CAP']].copy()\n",
    "newdf21 = df21[['Decision', 'College', 'GPA', 'Hours', 'Residency', 'CAP']].copy()\n",
    "\n",
    "newdf20.replace({'College': {'COLA': 1, 'CNS': 2, 'Moody': 3, 'McCombs': 4, 'Cockrell': 5, 'Education': 6,\n",
    "                         'COFA': 7, 'Social Work': 8, 'Nursing': 9, 'Geosciences': 10, 'Information':11,\n",
    "                         'Architecture': 12, 'Theatre and Dance': 13}}, inplace=True)\n",
    "\n",
    "newdf21.replace({'College': {'COLA': 1, 'CNS': 2, 'Moody': 3, 'McCombs': 4, 'Cockrell': 5, 'Education': 6,\n",
    "                         'COFA': 7, 'Social Work': 8, 'Nursing': 9, 'Geosciences': 10, 'Information':11,\n",
    "                         'Architecture': 12, 'Theatre and Dance': 13}}, inplace=True)"
   ]
  },
  {
   "cell_type": "markdown",
   "id": "07c83825",
   "metadata": {},
   "source": [
    "## Replace the rest of the string values \n",
    "\n",
    "### Decision\n",
    "0. Denied\n",
    "1. Admitted\n",
    "\n",
    "### Residency\n",
    "0. Out of State\n",
    "1. In State\n",
    "\n",
    "### CAP\n",
    "0. No\n",
    "1. Yes"
   ]
  },
  {
   "cell_type": "code",
   "execution_count": 571,
   "id": "ad5be110",
   "metadata": {
    "scrolled": false
   },
   "outputs": [
    {
     "data": {
      "text/html": [
       "<div>\n",
       "<style scoped>\n",
       "    .dataframe tbody tr th:only-of-type {\n",
       "        vertical-align: middle;\n",
       "    }\n",
       "\n",
       "    .dataframe tbody tr th {\n",
       "        vertical-align: top;\n",
       "    }\n",
       "\n",
       "    .dataframe thead th {\n",
       "        text-align: right;\n",
       "    }\n",
       "</style>\n",
       "<table border=\"1\" class=\"dataframe\">\n",
       "  <thead>\n",
       "    <tr style=\"text-align: right;\">\n",
       "      <th></th>\n",
       "      <th>Decision</th>\n",
       "      <th>College</th>\n",
       "      <th>GPA</th>\n",
       "      <th>Hours</th>\n",
       "      <th>Residency</th>\n",
       "      <th>CAP</th>\n",
       "    </tr>\n",
       "  </thead>\n",
       "  <tbody>\n",
       "    <tr>\n",
       "      <th>0</th>\n",
       "      <td>1</td>\n",
       "      <td>1</td>\n",
       "      <td>3.43</td>\n",
       "      <td>40</td>\n",
       "      <td>1</td>\n",
       "      <td>1</td>\n",
       "    </tr>\n",
       "    <tr>\n",
       "      <th>1</th>\n",
       "      <td>1</td>\n",
       "      <td>1</td>\n",
       "      <td>3.90</td>\n",
       "      <td>31</td>\n",
       "      <td>1</td>\n",
       "      <td>1</td>\n",
       "    </tr>\n",
       "    <tr>\n",
       "      <th>2</th>\n",
       "      <td>1</td>\n",
       "      <td>1</td>\n",
       "      <td>4.00</td>\n",
       "      <td>30</td>\n",
       "      <td>1</td>\n",
       "      <td>1</td>\n",
       "    </tr>\n",
       "    <tr>\n",
       "      <th>3</th>\n",
       "      <td>1</td>\n",
       "      <td>1</td>\n",
       "      <td>3.50</td>\n",
       "      <td>50</td>\n",
       "      <td>1</td>\n",
       "      <td>1</td>\n",
       "    </tr>\n",
       "    <tr>\n",
       "      <th>4</th>\n",
       "      <td>1</td>\n",
       "      <td>1</td>\n",
       "      <td>3.70</td>\n",
       "      <td>60</td>\n",
       "      <td>1</td>\n",
       "      <td>1</td>\n",
       "    </tr>\n",
       "    <tr>\n",
       "      <th>...</th>\n",
       "      <td>...</td>\n",
       "      <td>...</td>\n",
       "      <td>...</td>\n",
       "      <td>...</td>\n",
       "      <td>...</td>\n",
       "      <td>...</td>\n",
       "    </tr>\n",
       "    <tr>\n",
       "      <th>383</th>\n",
       "      <td>0</td>\n",
       "      <td>1</td>\n",
       "      <td>3.80</td>\n",
       "      <td>60</td>\n",
       "      <td>1</td>\n",
       "      <td>0</td>\n",
       "    </tr>\n",
       "    <tr>\n",
       "      <th>384</th>\n",
       "      <td>1</td>\n",
       "      <td>3</td>\n",
       "      <td>4.00</td>\n",
       "      <td>44</td>\n",
       "      <td>1</td>\n",
       "      <td>1</td>\n",
       "    </tr>\n",
       "    <tr>\n",
       "      <th>385</th>\n",
       "      <td>1</td>\n",
       "      <td>2</td>\n",
       "      <td>3.89</td>\n",
       "      <td>70</td>\n",
       "      <td>1</td>\n",
       "      <td>0</td>\n",
       "    </tr>\n",
       "    <tr>\n",
       "      <th>386</th>\n",
       "      <td>1</td>\n",
       "      <td>2</td>\n",
       "      <td>4.00</td>\n",
       "      <td>92</td>\n",
       "      <td>1</td>\n",
       "      <td>0</td>\n",
       "    </tr>\n",
       "    <tr>\n",
       "      <th>387</th>\n",
       "      <td>0</td>\n",
       "      <td>2</td>\n",
       "      <td>3.40</td>\n",
       "      <td>40</td>\n",
       "      <td>1</td>\n",
       "      <td>0</td>\n",
       "    </tr>\n",
       "  </tbody>\n",
       "</table>\n",
       "<p>388 rows × 6 columns</p>\n",
       "</div>"
      ],
      "text/plain": [
       "     Decision  College   GPA  Hours  Residency  CAP\n",
       "0           1        1  3.43     40          1    1\n",
       "1           1        1  3.90     31          1    1\n",
       "2           1        1  4.00     30          1    1\n",
       "3           1        1  3.50     50          1    1\n",
       "4           1        1  3.70     60          1    1\n",
       "..        ...      ...   ...    ...        ...  ...\n",
       "383         0        1  3.80     60          1    0\n",
       "384         1        3  4.00     44          1    1\n",
       "385         1        2  3.89     70          1    0\n",
       "386         1        2  4.00     92          1    0\n",
       "387         0        2  3.40     40          1    0\n",
       "\n",
       "[388 rows x 6 columns]"
      ]
     },
     "execution_count": 571,
     "metadata": {},
     "output_type": "execute_result"
    }
   ],
   "source": [
    "newdf20.replace({'Decision': {'Denied': 0, 'Admitted': 1}, 'Residency': {\"International\": 0,\"Out of state\": 0, \"In state\": 1},\n",
    "             'CAP': {'No': 0, 'Yes': 1}}, inplace=True)\n",
    "\n",
    "newdf21.replace({'Decision': {'Denied': 0, 'Admitted': 1}, 'Residency': {\"International\": 0,\"Out of State\": 0, \"In State\": 1},\n",
    "             'CAP': {'No': 0, 'Yes': 1}}, inplace=True)\n",
    "newdf20"
   ]
  },
  {
   "cell_type": "markdown",
   "id": "5c197399",
   "metadata": {},
   "source": [
    "### Combine Both New Df's\n",
    "\n",
    "Turn all GPA value into floats as some of them were read as strings"
   ]
  },
  {
   "cell_type": "code",
   "execution_count": 574,
   "id": "710033f9",
   "metadata": {},
   "outputs": [
    {
     "name": "stderr",
     "output_type": "stream",
     "text": [
      "/var/folders/_t/8m501xg90sq731lrqjx35mr40000gn/T/ipykernel_4261/629725331.py:1: FutureWarning: The frame.append method is deprecated and will be removed from pandas in a future version. Use pandas.concat instead.\n",
      "  df_merged = newDf20.append(newDf21, ignore_index=True)\n"
     ]
    },
    {
     "data": {
      "text/html": [
       "<div>\n",
       "<style scoped>\n",
       "    .dataframe tbody tr th:only-of-type {\n",
       "        vertical-align: middle;\n",
       "    }\n",
       "\n",
       "    .dataframe tbody tr th {\n",
       "        vertical-align: top;\n",
       "    }\n",
       "\n",
       "    .dataframe thead th {\n",
       "        text-align: right;\n",
       "    }\n",
       "</style>\n",
       "<table border=\"1\" class=\"dataframe\">\n",
       "  <thead>\n",
       "    <tr style=\"text-align: right;\">\n",
       "      <th></th>\n",
       "      <th>Decision</th>\n",
       "      <th>College</th>\n",
       "      <th>GPA</th>\n",
       "      <th>Hours</th>\n",
       "      <th>Residency</th>\n",
       "      <th>CAP</th>\n",
       "    </tr>\n",
       "  </thead>\n",
       "  <tbody>\n",
       "    <tr>\n",
       "      <th>0</th>\n",
       "      <td>1</td>\n",
       "      <td>1</td>\n",
       "      <td>3.43</td>\n",
       "      <td>40</td>\n",
       "      <td>1</td>\n",
       "      <td>1</td>\n",
       "    </tr>\n",
       "    <tr>\n",
       "      <th>1</th>\n",
       "      <td>1</td>\n",
       "      <td>1</td>\n",
       "      <td>3.90</td>\n",
       "      <td>31</td>\n",
       "      <td>1</td>\n",
       "      <td>1</td>\n",
       "    </tr>\n",
       "    <tr>\n",
       "      <th>2</th>\n",
       "      <td>1</td>\n",
       "      <td>1</td>\n",
       "      <td>4.00</td>\n",
       "      <td>30</td>\n",
       "      <td>1</td>\n",
       "      <td>1</td>\n",
       "    </tr>\n",
       "    <tr>\n",
       "      <th>3</th>\n",
       "      <td>1</td>\n",
       "      <td>1</td>\n",
       "      <td>3.50</td>\n",
       "      <td>50</td>\n",
       "      <td>1</td>\n",
       "      <td>1</td>\n",
       "    </tr>\n",
       "    <tr>\n",
       "      <th>4</th>\n",
       "      <td>1</td>\n",
       "      <td>1</td>\n",
       "      <td>3.70</td>\n",
       "      <td>60</td>\n",
       "      <td>1</td>\n",
       "      <td>1</td>\n",
       "    </tr>\n",
       "    <tr>\n",
       "      <th>...</th>\n",
       "      <td>...</td>\n",
       "      <td>...</td>\n",
       "      <td>...</td>\n",
       "      <td>...</td>\n",
       "      <td>...</td>\n",
       "      <td>...</td>\n",
       "    </tr>\n",
       "    <tr>\n",
       "      <th>827</th>\n",
       "      <td>1</td>\n",
       "      <td>9</td>\n",
       "      <td>3.86</td>\n",
       "      <td>86</td>\n",
       "      <td>1</td>\n",
       "      <td>0</td>\n",
       "    </tr>\n",
       "    <tr>\n",
       "      <th>828</th>\n",
       "      <td>1</td>\n",
       "      <td>4</td>\n",
       "      <td>3.89</td>\n",
       "      <td>61</td>\n",
       "      <td>1</td>\n",
       "      <td>0</td>\n",
       "    </tr>\n",
       "    <tr>\n",
       "      <th>829</th>\n",
       "      <td>1</td>\n",
       "      <td>3</td>\n",
       "      <td>4.00</td>\n",
       "      <td>32</td>\n",
       "      <td>1</td>\n",
       "      <td>1</td>\n",
       "    </tr>\n",
       "    <tr>\n",
       "      <th>830</th>\n",
       "      <td>1</td>\n",
       "      <td>3</td>\n",
       "      <td>4.00</td>\n",
       "      <td>33</td>\n",
       "      <td>1</td>\n",
       "      <td>1</td>\n",
       "    </tr>\n",
       "    <tr>\n",
       "      <th>831</th>\n",
       "      <td>1</td>\n",
       "      <td>11</td>\n",
       "      <td>3.70</td>\n",
       "      <td>69</td>\n",
       "      <td>1</td>\n",
       "      <td>0</td>\n",
       "    </tr>\n",
       "  </tbody>\n",
       "</table>\n",
       "<p>832 rows × 6 columns</p>\n",
       "</div>"
      ],
      "text/plain": [
       "     Decision  College   GPA  Hours  Residency  CAP\n",
       "0           1        1  3.43     40          1    1\n",
       "1           1        1  3.90     31          1    1\n",
       "2           1        1  4.00     30          1    1\n",
       "3           1        1  3.50     50          1    1\n",
       "4           1        1  3.70     60          1    1\n",
       "..        ...      ...   ...    ...        ...  ...\n",
       "827         1        9  3.86     86          1    0\n",
       "828         1        4  3.89     61          1    0\n",
       "829         1        3  4.00     32          1    1\n",
       "830         1        3  4.00     33          1    1\n",
       "831         1       11  3.70     69          1    0\n",
       "\n",
       "[832 rows x 6 columns]"
      ]
     },
     "execution_count": 574,
     "metadata": {},
     "output_type": "execute_result"
    }
   ],
   "source": [
    "df_merged = newDf20.append(newDf21, ignore_index=True)\n",
    "df_merged['GPA'] = df_merged['GPA'].apply(lambda x: float(x))\n",
    "\n",
    "df_merged"
   ]
  },
  {
   "cell_type": "markdown",
   "id": "7c798198",
   "metadata": {},
   "source": [
    "### Number of Acceptances"
   ]
  },
  {
   "cell_type": "code",
   "execution_count": 584,
   "id": "1e204ed7",
   "metadata": {
    "scrolled": true
   },
   "outputs": [
    {
     "data": {
      "text/plain": [
       "652"
      ]
     },
     "execution_count": 584,
     "metadata": {},
     "output_type": "execute_result"
    }
   ],
   "source": [
    "(df_merged['Decision']==1).sum() "
   ]
  },
  {
   "cell_type": "markdown",
   "id": "034999ab",
   "metadata": {},
   "source": [
    "## Create Target and Inputs to pass into the Naive Bayes Classifier"
   ]
  },
  {
   "cell_type": "code",
   "execution_count": 575,
   "id": "539642c3",
   "metadata": {
    "scrolled": true
   },
   "outputs": [
    {
     "data": {
      "text/html": [
       "<div>\n",
       "<style scoped>\n",
       "    .dataframe tbody tr th:only-of-type {\n",
       "        vertical-align: middle;\n",
       "    }\n",
       "\n",
       "    .dataframe tbody tr th {\n",
       "        vertical-align: top;\n",
       "    }\n",
       "\n",
       "    .dataframe thead th {\n",
       "        text-align: right;\n",
       "    }\n",
       "</style>\n",
       "<table border=\"1\" class=\"dataframe\">\n",
       "  <thead>\n",
       "    <tr style=\"text-align: right;\">\n",
       "      <th></th>\n",
       "      <th>College</th>\n",
       "      <th>GPA</th>\n",
       "      <th>Hours</th>\n",
       "      <th>Residency</th>\n",
       "      <th>CAP</th>\n",
       "    </tr>\n",
       "  </thead>\n",
       "  <tbody>\n",
       "    <tr>\n",
       "      <th>0</th>\n",
       "      <td>1</td>\n",
       "      <td>3.43</td>\n",
       "      <td>40</td>\n",
       "      <td>1</td>\n",
       "      <td>1</td>\n",
       "    </tr>\n",
       "    <tr>\n",
       "      <th>1</th>\n",
       "      <td>1</td>\n",
       "      <td>3.90</td>\n",
       "      <td>31</td>\n",
       "      <td>1</td>\n",
       "      <td>1</td>\n",
       "    </tr>\n",
       "    <tr>\n",
       "      <th>2</th>\n",
       "      <td>1</td>\n",
       "      <td>4.00</td>\n",
       "      <td>30</td>\n",
       "      <td>1</td>\n",
       "      <td>1</td>\n",
       "    </tr>\n",
       "    <tr>\n",
       "      <th>3</th>\n",
       "      <td>1</td>\n",
       "      <td>3.50</td>\n",
       "      <td>50</td>\n",
       "      <td>1</td>\n",
       "      <td>1</td>\n",
       "    </tr>\n",
       "    <tr>\n",
       "      <th>4</th>\n",
       "      <td>1</td>\n",
       "      <td>3.70</td>\n",
       "      <td>60</td>\n",
       "      <td>1</td>\n",
       "      <td>1</td>\n",
       "    </tr>\n",
       "    <tr>\n",
       "      <th>...</th>\n",
       "      <td>...</td>\n",
       "      <td>...</td>\n",
       "      <td>...</td>\n",
       "      <td>...</td>\n",
       "      <td>...</td>\n",
       "    </tr>\n",
       "    <tr>\n",
       "      <th>827</th>\n",
       "      <td>9</td>\n",
       "      <td>3.86</td>\n",
       "      <td>86</td>\n",
       "      <td>1</td>\n",
       "      <td>0</td>\n",
       "    </tr>\n",
       "    <tr>\n",
       "      <th>828</th>\n",
       "      <td>4</td>\n",
       "      <td>3.89</td>\n",
       "      <td>61</td>\n",
       "      <td>1</td>\n",
       "      <td>0</td>\n",
       "    </tr>\n",
       "    <tr>\n",
       "      <th>829</th>\n",
       "      <td>3</td>\n",
       "      <td>4.00</td>\n",
       "      <td>32</td>\n",
       "      <td>1</td>\n",
       "      <td>1</td>\n",
       "    </tr>\n",
       "    <tr>\n",
       "      <th>830</th>\n",
       "      <td>3</td>\n",
       "      <td>4.00</td>\n",
       "      <td>33</td>\n",
       "      <td>1</td>\n",
       "      <td>1</td>\n",
       "    </tr>\n",
       "    <tr>\n",
       "      <th>831</th>\n",
       "      <td>11</td>\n",
       "      <td>3.70</td>\n",
       "      <td>69</td>\n",
       "      <td>1</td>\n",
       "      <td>0</td>\n",
       "    </tr>\n",
       "  </tbody>\n",
       "</table>\n",
       "<p>832 rows × 5 columns</p>\n",
       "</div>"
      ],
      "text/plain": [
       "     College   GPA  Hours  Residency  CAP\n",
       "0          1  3.43     40          1    1\n",
       "1          1  3.90     31          1    1\n",
       "2          1  4.00     30          1    1\n",
       "3          1  3.50     50          1    1\n",
       "4          1  3.70     60          1    1\n",
       "..       ...   ...    ...        ...  ...\n",
       "827        9  3.86     86          1    0\n",
       "828        4  3.89     61          1    0\n",
       "829        3  4.00     32          1    1\n",
       "830        3  4.00     33          1    1\n",
       "831       11  3.70     69          1    0\n",
       "\n",
       "[832 rows x 5 columns]"
      ]
     },
     "execution_count": 575,
     "metadata": {},
     "output_type": "execute_result"
    }
   ],
   "source": [
    "target = df_merged.Decision\n",
    "inputs = df_merged.drop('Decision', axis='columns')\n",
    "inputs"
   ]
  },
  {
   "cell_type": "code",
   "execution_count": 576,
   "id": "d7eae0d2",
   "metadata": {},
   "outputs": [],
   "source": [
    "from sklearn.model_selection import train_test_split\n",
    "X_train, X_test, Y_train, Y_test = train_test_split(inputs, target, test_size = 0.2)"
   ]
  },
  {
   "cell_type": "code",
   "execution_count": 577,
   "id": "2fabaee7",
   "metadata": {},
   "outputs": [
    {
     "data": {
      "text/plain": [
       "GaussianNB()"
      ]
     },
     "execution_count": 577,
     "metadata": {},
     "output_type": "execute_result"
    }
   ],
   "source": [
    "from sklearn.naive_bayes import GaussianNB\n",
    "model = GaussianNB()\n",
    "model.fit(X_train, Y_train)"
   ]
  },
  {
   "cell_type": "code",
   "execution_count": 578,
   "id": "d04d2bcc",
   "metadata": {
    "scrolled": true
   },
   "outputs": [
    {
     "data": {
      "text/plain": [
       "0.7544910179640718"
      ]
     },
     "execution_count": 578,
     "metadata": {},
     "output_type": "execute_result"
    }
   ],
   "source": [
    "model.score(X_test, Y_test)"
   ]
  },
  {
   "cell_type": "code",
   "execution_count": 579,
   "id": "e1091fcf",
   "metadata": {
    "scrolled": true
   },
   "outputs": [
    {
     "data": {
      "text/plain": [
       "array([1, 1, 0, 1, 1, 1, 1, 1, 1, 1])"
      ]
     },
     "execution_count": 579,
     "metadata": {},
     "output_type": "execute_result"
    }
   ],
   "source": [
    "model.predict(X_test[:10])"
   ]
  },
  {
   "cell_type": "code",
   "execution_count": 582,
   "id": "fb456d32",
   "metadata": {},
   "outputs": [
    {
     "data": {
      "text/plain": [
       "675    0\n",
       "426    1\n",
       "722    0\n",
       "484    1\n",
       "476    1\n",
       "21     1\n",
       "237    1\n",
       "798    0\n",
       "328    0\n",
       "74     1\n",
       "Name: Decision, dtype: int64"
      ]
     },
     "execution_count": 582,
     "metadata": {},
     "output_type": "execute_result"
    }
   ],
   "source": [
    "Y_test[:10]"
   ]
  },
  {
   "cell_type": "markdown",
   "id": "5b771140",
   "metadata": {},
   "source": [
    "## Replace college string values with integers\n",
    "\n",
    "\n",
    "\n",
    "1. COLA\n",
    "2. CNS\n",
    "3. Moody\n",
    "4. McCombs\n",
    "5. Cockrell\n",
    "6. Education\n",
    "7. COFA\n",
    "8. Social Work\n",
    "9. Nursing\n",
    "10. Geosciences\n",
    "11. Information\n",
    "12. Architecture\n",
    "13. Theatre and Dance\n",
    " "
   ]
  },
  {
   "cell_type": "code",
   "execution_count": 313,
   "id": "3d73b12d",
   "metadata": {
    "scrolled": true
   },
   "outputs": [
    {
     "name": "stderr",
     "output_type": "stream",
     "text": [
      "/var/folders/_t/8m501xg90sq731lrqjx35mr40000gn/T/ipykernel_4261/4258565004.py:2: FutureWarning: The frame.append method is deprecated and will be removed from pandas in a future version. Use pandas.concat instead.\n",
      "  students = students.append({'College' : 1 , 'GPA' : 4.0, 'Hours' : 55, 'Residency': 1 , 'CAP': 0},\n"
     ]
    },
    {
     "data": {
      "text/html": [
       "<div>\n",
       "<style scoped>\n",
       "    .dataframe tbody tr th:only-of-type {\n",
       "        vertical-align: middle;\n",
       "    }\n",
       "\n",
       "    .dataframe tbody tr th {\n",
       "        vertical-align: top;\n",
       "    }\n",
       "\n",
       "    .dataframe thead th {\n",
       "        text-align: right;\n",
       "    }\n",
       "</style>\n",
       "<table border=\"1\" class=\"dataframe\">\n",
       "  <thead>\n",
       "    <tr style=\"text-align: right;\">\n",
       "      <th></th>\n",
       "      <th>College</th>\n",
       "      <th>GPA</th>\n",
       "      <th>Hours</th>\n",
       "      <th>Residency</th>\n",
       "      <th>CAP</th>\n",
       "    </tr>\n",
       "  </thead>\n",
       "  <tbody>\n",
       "    <tr>\n",
       "      <th>0</th>\n",
       "      <td>1.0</td>\n",
       "      <td>4.0</td>\n",
       "      <td>55.0</td>\n",
       "      <td>1.0</td>\n",
       "      <td>0.0</td>\n",
       "    </tr>\n",
       "  </tbody>\n",
       "</table>\n",
       "</div>"
      ],
      "text/plain": [
       "  College  GPA Hours Residency  CAP\n",
       "0     1.0  4.0  55.0       1.0  0.0"
      ]
     },
     "execution_count": 313,
     "metadata": {},
     "output_type": "execute_result"
    }
   ],
   "source": [
    "students = pd.DataFrame(columns = ['College', 'GPA', 'Hours', 'Residency', 'CAP'])\n",
    "students = students.append({'College' : 1 , 'GPA' : 4.0, 'Hours' : 55, 'Residency': 1 , 'CAP': 0},\n",
    "        ignore_index = True)\n",
    "students"
   ]
  },
  {
   "cell_type": "code",
   "execution_count": 633,
   "id": "85e7a298",
   "metadata": {
    "scrolled": true
   },
   "outputs": [
    {
     "data": {
      "text/plain": [
       "array([[0.34871653, 0.65128347]])"
      ]
     },
     "execution_count": 633,
     "metadata": {},
     "output_type": "execute_result"
    }
   ],
   "source": [
    "model.predict_proba(students[:1])"
   ]
  }
 ],
 "metadata": {
  "kernelspec": {
   "display_name": "Python 3 (ipykernel)",
   "language": "python",
   "name": "python3"
  },
  "language_info": {
   "codemirror_mode": {
    "name": "ipython",
    "version": 3
   },
   "file_extension": ".py",
   "mimetype": "text/x-python",
   "name": "python",
   "nbconvert_exporter": "python",
   "pygments_lexer": "ipython3",
   "version": "3.9.12"
  }
 },
 "nbformat": 4,
 "nbformat_minor": 5
}
